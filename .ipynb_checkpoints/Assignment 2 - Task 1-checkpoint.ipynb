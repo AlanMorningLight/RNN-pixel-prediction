{
 "cells": [
  {
   "cell_type": "markdown",
   "metadata": {},
   "source": [
    "# Assignment 2 - Task 2"
   ]
  },
  {
   "cell_type": "code",
   "execution_count": 22,
   "metadata": {
    "collapsed": false
   },
   "outputs": [],
   "source": [
    "import tensorflow as tf\n",
    "import numpy as np\n",
    "from tensorflow.python.ops import rnn, rnn_cell\n",
    "#import matplotlib as plt\n",
    "\n",
    "data_dir = 'data/'\n"
   ]
  },
  {
   "cell_type": "code",
   "execution_count": 2,
   "metadata": {
    "collapsed": false
   },
   "outputs": [
    {
     "data": {
      "text/plain": [
       "'0.12.1'"
      ]
     },
     "execution_count": 2,
     "metadata": {},
     "output_type": "execute_result"
    }
   ],
   "source": [
    "tf.__version__"
   ]
  },
  {
   "cell_type": "code",
   "execution_count": 6,
   "metadata": {
    "collapsed": false
   },
   "outputs": [
    {
     "name": "stdout",
     "output_type": "stream",
     "text": [
      "Extracting data/train-images-idx3-ubyte.gz\n",
      "Extracting data/train-labels-idx1-ubyte.gz\n",
      "Extracting data/t10k-images-idx3-ubyte.gz\n",
      "Extracting data/t10k-labels-idx1-ubyte.gz\n"
     ]
    }
   ],
   "source": [
    "from tensorflow.examples.tutorials.mnist import input_data\n",
    "# import dataset with one-hot class encoding\n",
    "mnist = input_data.read_data_sets(data_dir, one_hot=True)"
   ]
  },
  {
   "cell_type": "code",
   "execution_count": 5,
   "metadata": {
    "collapsed": true
   },
   "outputs": [],
   "source": [
    "def binarize(images, threshold = 0.1):\n",
    "    return (threshol < images).astype(tf.float32)"
   ]
  },
  {
   "cell_type": "code",
   "execution_count": 4,
   "metadata": {
    "collapsed": false
   },
   "outputs": [],
   "source": [
    "# network parameters\n",
    "\n",
    "IMAGE_DIM = 28\n",
    "TIME_STEP = 28\n",
    "OUTPUT_NODES = 10\n",
    "\n",
    "EPOCH = 100\n",
    "BATCH = 50\n",
    "LEARNING_RATE = 0.01\n",
    "\n",
    "RNN_SIZE = 32\n",
    "TRAIN_MODE = True"
   ]
  },
  {
   "cell_type": "code",
   "execution_count": 7,
   "metadata": {
    "collapsed": false
   },
   "outputs": [],
   "source": [
    "x = tf.placeholder(tf.float32, [None, TIME_STEP, IMAGE_DIM])\n",
    "y = tf.placeholder(tf.float32,[None,OUTPUT_NODES])"
   ]
  },
  {
   "cell_type": "code",
   "execution_count": 8,
   "metadata": {
    "collapsed": false
   },
   "outputs": [
    {
     "data": {
      "text/plain": [
       "<tf.Tensor 'Placeholder_1:0' shape=(?, 10) dtype=float32>"
      ]
     },
     "execution_count": 8,
     "metadata": {},
     "output_type": "execute_result"
    }
   ],
   "source": [
    "y"
   ]
  },
  {
   "cell_type": "code",
   "execution_count": 10,
   "metadata": {
    "collapsed": true
   },
   "outputs": [],
   "source": [
    "x = tf.transpose(x, [1,0,2])"
   ]
  },
  {
   "cell_type": "code",
   "execution_count": 12,
   "metadata": {
    "collapsed": true
   },
   "outputs": [],
   "source": [
    "x = tf.reshape(x, [-1, IMAGE_DIM])"
   ]
  },
  {
   "cell_type": "code",
   "execution_count": 15,
   "metadata": {
    "collapsed": false
   },
   "outputs": [],
   "source": [
    "x = tf.split(0, TIME_STEP, x)"
   ]
  },
  {
   "cell_type": "code",
   "execution_count": 16,
   "metadata": {
    "collapsed": false
   },
   "outputs": [
    {
     "data": {
      "text/plain": [
       "[<tf.Tensor 'split_1:0' shape=(?, 28) dtype=float32>,\n",
       " <tf.Tensor 'split_1:1' shape=(?, 28) dtype=float32>,\n",
       " <tf.Tensor 'split_1:2' shape=(?, 28) dtype=float32>,\n",
       " <tf.Tensor 'split_1:3' shape=(?, 28) dtype=float32>,\n",
       " <tf.Tensor 'split_1:4' shape=(?, 28) dtype=float32>,\n",
       " <tf.Tensor 'split_1:5' shape=(?, 28) dtype=float32>,\n",
       " <tf.Tensor 'split_1:6' shape=(?, 28) dtype=float32>,\n",
       " <tf.Tensor 'split_1:7' shape=(?, 28) dtype=float32>,\n",
       " <tf.Tensor 'split_1:8' shape=(?, 28) dtype=float32>,\n",
       " <tf.Tensor 'split_1:9' shape=(?, 28) dtype=float32>,\n",
       " <tf.Tensor 'split_1:10' shape=(?, 28) dtype=float32>,\n",
       " <tf.Tensor 'split_1:11' shape=(?, 28) dtype=float32>,\n",
       " <tf.Tensor 'split_1:12' shape=(?, 28) dtype=float32>,\n",
       " <tf.Tensor 'split_1:13' shape=(?, 28) dtype=float32>,\n",
       " <tf.Tensor 'split_1:14' shape=(?, 28) dtype=float32>,\n",
       " <tf.Tensor 'split_1:15' shape=(?, 28) dtype=float32>,\n",
       " <tf.Tensor 'split_1:16' shape=(?, 28) dtype=float32>,\n",
       " <tf.Tensor 'split_1:17' shape=(?, 28) dtype=float32>,\n",
       " <tf.Tensor 'split_1:18' shape=(?, 28) dtype=float32>,\n",
       " <tf.Tensor 'split_1:19' shape=(?, 28) dtype=float32>,\n",
       " <tf.Tensor 'split_1:20' shape=(?, 28) dtype=float32>,\n",
       " <tf.Tensor 'split_1:21' shape=(?, 28) dtype=float32>,\n",
       " <tf.Tensor 'split_1:22' shape=(?, 28) dtype=float32>,\n",
       " <tf.Tensor 'split_1:23' shape=(?, 28) dtype=float32>,\n",
       " <tf.Tensor 'split_1:24' shape=(?, 28) dtype=float32>,\n",
       " <tf.Tensor 'split_1:25' shape=(?, 28) dtype=float32>,\n",
       " <tf.Tensor 'split_1:26' shape=(?, 28) dtype=float32>,\n",
       " <tf.Tensor 'split_1:27' shape=(?, 28) dtype=float32>]"
      ]
     },
     "execution_count": 16,
     "metadata": {},
     "output_type": "execute_result"
    }
   ],
   "source": [
    "x"
   ]
  },
  {
   "cell_type": "code",
   "execution_count": 23,
   "metadata": {
    "collapsed": false
   },
   "outputs": [],
   "source": [
    "\n",
    "layer = {'weights':tf.Variable(tf.random_normal([RNN_SIZE,OUTPUT_NODES])),\n",
    "         'biases':tf.Variable(tf.random_normal([OUTPUT_NODES]))}\n",
    "\n",
    "\n",
    "\n",
    "lstm_cell = rnn_cell.BasicLSTMCell(RNN_SIZE, forget_bias=0.1)\n",
    "output, state = rnn.rnn(lstm_cell, x, dtype=tf.float32)\n",
    "\n",
    "#output = tf.matmul(output[-1],layer['weights']) + layer['biases']\n",
    "\n",
    "\n",
    "    "
   ]
  },
  {
   "cell_type": "code",
   "execution_count": 26,
   "metadata": {
    "collapsed": false
   },
   "outputs": [
    {
     "data": {
      "text/plain": [
       "[<tf.Tensor 'RNN/BasicLSTMCell/mul_2:0' shape=(?, 32) dtype=float32>,\n",
       " <tf.Tensor 'RNN/BasicLSTMCell_1/mul_2:0' shape=(?, 32) dtype=float32>,\n",
       " <tf.Tensor 'RNN/BasicLSTMCell_2/mul_2:0' shape=(?, 32) dtype=float32>,\n",
       " <tf.Tensor 'RNN/BasicLSTMCell_3/mul_2:0' shape=(?, 32) dtype=float32>,\n",
       " <tf.Tensor 'RNN/BasicLSTMCell_4/mul_2:0' shape=(?, 32) dtype=float32>,\n",
       " <tf.Tensor 'RNN/BasicLSTMCell_5/mul_2:0' shape=(?, 32) dtype=float32>,\n",
       " <tf.Tensor 'RNN/BasicLSTMCell_6/mul_2:0' shape=(?, 32) dtype=float32>,\n",
       " <tf.Tensor 'RNN/BasicLSTMCell_7/mul_2:0' shape=(?, 32) dtype=float32>,\n",
       " <tf.Tensor 'RNN/BasicLSTMCell_8/mul_2:0' shape=(?, 32) dtype=float32>,\n",
       " <tf.Tensor 'RNN/BasicLSTMCell_9/mul_2:0' shape=(?, 32) dtype=float32>,\n",
       " <tf.Tensor 'RNN/BasicLSTMCell_10/mul_2:0' shape=(?, 32) dtype=float32>,\n",
       " <tf.Tensor 'RNN/BasicLSTMCell_11/mul_2:0' shape=(?, 32) dtype=float32>,\n",
       " <tf.Tensor 'RNN/BasicLSTMCell_12/mul_2:0' shape=(?, 32) dtype=float32>,\n",
       " <tf.Tensor 'RNN/BasicLSTMCell_13/mul_2:0' shape=(?, 32) dtype=float32>,\n",
       " <tf.Tensor 'RNN/BasicLSTMCell_14/mul_2:0' shape=(?, 32) dtype=float32>,\n",
       " <tf.Tensor 'RNN/BasicLSTMCell_15/mul_2:0' shape=(?, 32) dtype=float32>,\n",
       " <tf.Tensor 'RNN/BasicLSTMCell_16/mul_2:0' shape=(?, 32) dtype=float32>,\n",
       " <tf.Tensor 'RNN/BasicLSTMCell_17/mul_2:0' shape=(?, 32) dtype=float32>,\n",
       " <tf.Tensor 'RNN/BasicLSTMCell_18/mul_2:0' shape=(?, 32) dtype=float32>,\n",
       " <tf.Tensor 'RNN/BasicLSTMCell_19/mul_2:0' shape=(?, 32) dtype=float32>,\n",
       " <tf.Tensor 'RNN/BasicLSTMCell_20/mul_2:0' shape=(?, 32) dtype=float32>,\n",
       " <tf.Tensor 'RNN/BasicLSTMCell_21/mul_2:0' shape=(?, 32) dtype=float32>,\n",
       " <tf.Tensor 'RNN/BasicLSTMCell_22/mul_2:0' shape=(?, 32) dtype=float32>,\n",
       " <tf.Tensor 'RNN/BasicLSTMCell_23/mul_2:0' shape=(?, 32) dtype=float32>,\n",
       " <tf.Tensor 'RNN/BasicLSTMCell_24/mul_2:0' shape=(?, 32) dtype=float32>,\n",
       " <tf.Tensor 'RNN/BasicLSTMCell_25/mul_2:0' shape=(?, 32) dtype=float32>,\n",
       " <tf.Tensor 'RNN/BasicLSTMCell_26/mul_2:0' shape=(?, 32) dtype=float32>,\n",
       " <tf.Tensor 'RNN/BasicLSTMCell_27/mul_2:0' shape=(?, 32) dtype=float32>]"
      ]
     },
     "execution_count": 26,
     "metadata": {},
     "output_type": "execute_result"
    }
   ],
   "source": [
    "output"
   ]
  },
  {
   "cell_type": "code",
   "execution_count": 10,
   "metadata": {
    "collapsed": false
   },
   "outputs": [
    {
     "data": {
      "text/plain": [
       "<tf.Tensor 'transpose_1:0' shape=(784, ?, 32) dtype=float32>"
      ]
     },
     "execution_count": 10,
     "metadata": {},
     "output_type": "execute_result"
    }
   ],
   "source": [
    "#output = tf.transpose(output, [1, 0, 2])\n",
    "#output"
   ]
  },
  {
   "cell_type": "code",
   "execution_count": 11,
   "metadata": {
    "collapsed": true
   },
   "outputs": [],
   "source": [
    "#last = tf.gather(output, int(output.get_shape()[0]) - 1)"
   ]
  },
  {
   "cell_type": "code",
   "execution_count": 12,
   "metadata": {
    "collapsed": false
   },
   "outputs": [
    {
     "data": {
      "text/plain": [
       "<tf.Tensor 'Gather:0' shape=(?, 32) dtype=float32>"
      ]
     },
     "execution_count": 12,
     "metadata": {},
     "output_type": "execute_result"
    }
   ],
   "source": [
    "#last"
   ]
  },
  {
   "cell_type": "code",
   "execution_count": null,
   "metadata": {
    "collapsed": false
   },
   "outputs": [],
   "source": []
  },
  {
   "cell_type": "code",
   "execution_count": 13,
   "metadata": {
    "collapsed": false
   },
   "outputs": [],
   "source": [
    "weight100 = tf.Variable(tf.truncated_normal([RNN_SIZE,100]))\n",
    "bias100 = tf.Variable(tf.constant(0.1, shape=[1,100]))"
   ]
  },
  {
   "cell_type": "code",
   "execution_count": null,
   "metadata": {
    "collapsed": false
   },
   "outputs": [],
   "source": []
  },
  {
   "cell_type": "code",
   "execution_count": 15,
   "metadata": {
    "collapsed": false
   },
   "outputs": [],
   "source": [
    "r1 = tf.nn.relu(tf.matmul(output[-1],weight100) + bias100)"
   ]
  },
  {
   "cell_type": "code",
   "execution_count": 16,
   "metadata": {
    "collapsed": false
   },
   "outputs": [
    {
     "data": {
      "text/plain": [
       "<tf.Tensor 'Relu_1:0' shape=(?, 100) dtype=float32>"
      ]
     },
     "execution_count": 16,
     "metadata": {},
     "output_type": "execute_result"
    }
   ],
   "source": [
    "r1"
   ]
  },
  {
   "cell_type": "code",
   "execution_count": 17,
   "metadata": {
    "collapsed": false
   },
   "outputs": [],
   "source": [
    "weight10 = tf.Variable(tf.truncated_normal([100,10]))\n",
    "bias10 = tf.Variable(tf.constant(0.1, shape=[1,10]))"
   ]
  },
  {
   "cell_type": "code",
   "execution_count": 19,
   "metadata": {
    "collapsed": false
   },
   "outputs": [],
   "source": [
    "out = tf.nn.softmax(tf.matmul(r1,weight10) + bias10)"
   ]
  },
  {
   "cell_type": "code",
   "execution_count": 21,
   "metadata": {
    "collapsed": false
   },
   "outputs": [],
   "source": [
    "prediction = out"
   ]
  },
  {
   "cell_type": "code",
   "execution_count": 22,
   "metadata": {
    "collapsed": false
   },
   "outputs": [
    {
     "name": "stderr",
     "output_type": "stream",
     "text": [
      "C:\\Users\\Nitish Mutha\\Anaconda3\\envs\\tensorflow-gpu-12\\lib\\site-packages\\tensorflow\\python\\ops\\gradients_impl.py:91: UserWarning: Converting sparse IndexedSlices to a dense Tensor of unknown shape. This may consume a large amount of memory.\n",
      "  \"Converting sparse IndexedSlices to a dense Tensor of unknown shape. \"\n"
     ]
    }
   ],
   "source": [
    "cost = tf.reduce_mean( tf.nn.softmax_cross_entropy_with_logits(prediction,y) )\n",
    "optimizer = tf.train.AdamOptimizer().minimize(cost)\n"
   ]
  },
  {
   "cell_type": "code",
   "execution_count": 25,
   "metadata": {
    "collapsed": false
   },
   "outputs": [
    {
     "name": "stdout",
     "output_type": "stream",
     "text": [
      "WARNING:tensorflow:From <ipython-input-25-4693f113b06c>:6 in <module>.: initialize_all_variables (from tensorflow.python.ops.variables) is deprecated and will be removed after 2017-03-02.\n",
      "Instructions for updating:\n",
      "Use `tf.global_variables_initializer` instead.\n"
     ]
    },
    {
     "ename": "KeyboardInterrupt",
     "evalue": "",
     "output_type": "error",
     "traceback": [
      "\u001b[0;31m---------------------------------------------------------------------------\u001b[0m",
      "\u001b[0;31mKeyboardInterrupt\u001b[0m                         Traceback (most recent call last)",
      "\u001b[0;32m<ipython-input-25-4693f113b06c>\u001b[0m in \u001b[0;36m<module>\u001b[0;34m()\u001b[0m\n\u001b[1;32m     13\u001b[0m             \u001b[0mepoch_x\u001b[0m \u001b[1;33m=\u001b[0m \u001b[0mepoch_x\u001b[0m\u001b[1;33m.\u001b[0m\u001b[0mreshape\u001b[0m\u001b[1;33m(\u001b[0m\u001b[1;33m(\u001b[0m\u001b[0mBATCH\u001b[0m\u001b[1;33m,\u001b[0m\u001b[1;36m784\u001b[0m\u001b[1;33m,\u001b[0m\u001b[1;36m1\u001b[0m\u001b[1;33m)\u001b[0m\u001b[1;33m)\u001b[0m\u001b[1;33m\u001b[0m\u001b[0m\n\u001b[1;32m     14\u001b[0m \u001b[1;33m\u001b[0m\u001b[0m\n\u001b[0;32m---> 15\u001b[0;31m             \u001b[0m_\u001b[0m\u001b[1;33m,\u001b[0m \u001b[0mc\u001b[0m \u001b[1;33m=\u001b[0m \u001b[0msess\u001b[0m\u001b[1;33m.\u001b[0m\u001b[0mrun\u001b[0m\u001b[1;33m(\u001b[0m\u001b[1;33m[\u001b[0m\u001b[0moptimizer\u001b[0m\u001b[1;33m,\u001b[0m \u001b[0mcost\u001b[0m\u001b[1;33m]\u001b[0m\u001b[1;33m,\u001b[0m \u001b[0mfeed_dict\u001b[0m\u001b[1;33m=\u001b[0m\u001b[1;33m{\u001b[0m\u001b[0mx\u001b[0m\u001b[1;33m:\u001b[0m \u001b[0mepoch_x\u001b[0m\u001b[1;33m,\u001b[0m \u001b[0my\u001b[0m\u001b[1;33m:\u001b[0m \u001b[0mepoch_y\u001b[0m\u001b[1;33m}\u001b[0m\u001b[1;33m)\u001b[0m\u001b[1;33m\u001b[0m\u001b[0m\n\u001b[0m\u001b[1;32m     16\u001b[0m             \u001b[0mepoch_loss\u001b[0m \u001b[1;33m+=\u001b[0m \u001b[0mc\u001b[0m\u001b[1;33m\u001b[0m\u001b[0m\n\u001b[1;32m     17\u001b[0m \u001b[1;33m\u001b[0m\u001b[0m\n",
      "\u001b[0;32mC:\\Users\\Nitish Mutha\\Anaconda3\\envs\\tensorflow-gpu-12\\lib\\site-packages\\tensorflow\\python\\client\\session.py\u001b[0m in \u001b[0;36mrun\u001b[0;34m(self, fetches, feed_dict, options, run_metadata)\u001b[0m\n\u001b[1;32m    764\u001b[0m     \u001b[1;32mtry\u001b[0m\u001b[1;33m:\u001b[0m\u001b[1;33m\u001b[0m\u001b[0m\n\u001b[1;32m    765\u001b[0m       result = self._run(None, fetches, feed_dict, options_ptr,\n\u001b[0;32m--> 766\u001b[0;31m                          run_metadata_ptr)\n\u001b[0m\u001b[1;32m    767\u001b[0m       \u001b[1;32mif\u001b[0m \u001b[0mrun_metadata\u001b[0m\u001b[1;33m:\u001b[0m\u001b[1;33m\u001b[0m\u001b[0m\n\u001b[1;32m    768\u001b[0m         \u001b[0mproto_data\u001b[0m \u001b[1;33m=\u001b[0m \u001b[0mtf_session\u001b[0m\u001b[1;33m.\u001b[0m\u001b[0mTF_GetBuffer\u001b[0m\u001b[1;33m(\u001b[0m\u001b[0mrun_metadata_ptr\u001b[0m\u001b[1;33m)\u001b[0m\u001b[1;33m\u001b[0m\u001b[0m\n",
      "\u001b[0;32mC:\\Users\\Nitish Mutha\\Anaconda3\\envs\\tensorflow-gpu-12\\lib\\site-packages\\tensorflow\\python\\client\\session.py\u001b[0m in \u001b[0;36m_run\u001b[0;34m(self, handle, fetches, feed_dict, options, run_metadata)\u001b[0m\n\u001b[1;32m    962\u001b[0m     \u001b[1;32mif\u001b[0m \u001b[0mfinal_fetches\u001b[0m \u001b[1;32mor\u001b[0m \u001b[0mfinal_targets\u001b[0m\u001b[1;33m:\u001b[0m\u001b[1;33m\u001b[0m\u001b[0m\n\u001b[1;32m    963\u001b[0m       results = self._do_run(handle, final_targets, final_fetches,\n\u001b[0;32m--> 964\u001b[0;31m                              feed_dict_string, options, run_metadata)\n\u001b[0m\u001b[1;32m    965\u001b[0m     \u001b[1;32melse\u001b[0m\u001b[1;33m:\u001b[0m\u001b[1;33m\u001b[0m\u001b[0m\n\u001b[1;32m    966\u001b[0m       \u001b[0mresults\u001b[0m \u001b[1;33m=\u001b[0m \u001b[1;33m[\u001b[0m\u001b[1;33m]\u001b[0m\u001b[1;33m\u001b[0m\u001b[0m\n",
      "\u001b[0;32mC:\\Users\\Nitish Mutha\\Anaconda3\\envs\\tensorflow-gpu-12\\lib\\site-packages\\tensorflow\\python\\client\\session.py\u001b[0m in \u001b[0;36m_do_run\u001b[0;34m(self, handle, target_list, fetch_list, feed_dict, options, run_metadata)\u001b[0m\n\u001b[1;32m   1012\u001b[0m     \u001b[1;32mif\u001b[0m \u001b[0mhandle\u001b[0m \u001b[1;32mis\u001b[0m \u001b[1;32mNone\u001b[0m\u001b[1;33m:\u001b[0m\u001b[1;33m\u001b[0m\u001b[0m\n\u001b[1;32m   1013\u001b[0m       return self._do_call(_run_fn, self._session, feed_dict, fetch_list,\n\u001b[0;32m-> 1014\u001b[0;31m                            target_list, options, run_metadata)\n\u001b[0m\u001b[1;32m   1015\u001b[0m     \u001b[1;32melse\u001b[0m\u001b[1;33m:\u001b[0m\u001b[1;33m\u001b[0m\u001b[0m\n\u001b[1;32m   1016\u001b[0m       return self._do_call(_prun_fn, self._session, handle, feed_dict,\n",
      "\u001b[0;32mC:\\Users\\Nitish Mutha\\Anaconda3\\envs\\tensorflow-gpu-12\\lib\\site-packages\\tensorflow\\python\\client\\session.py\u001b[0m in \u001b[0;36m_do_call\u001b[0;34m(self, fn, *args)\u001b[0m\n\u001b[1;32m   1019\u001b[0m   \u001b[1;32mdef\u001b[0m \u001b[0m_do_call\u001b[0m\u001b[1;33m(\u001b[0m\u001b[0mself\u001b[0m\u001b[1;33m,\u001b[0m \u001b[0mfn\u001b[0m\u001b[1;33m,\u001b[0m \u001b[1;33m*\u001b[0m\u001b[0margs\u001b[0m\u001b[1;33m)\u001b[0m\u001b[1;33m:\u001b[0m\u001b[1;33m\u001b[0m\u001b[0m\n\u001b[1;32m   1020\u001b[0m     \u001b[1;32mtry\u001b[0m\u001b[1;33m:\u001b[0m\u001b[1;33m\u001b[0m\u001b[0m\n\u001b[0;32m-> 1021\u001b[0;31m       \u001b[1;32mreturn\u001b[0m \u001b[0mfn\u001b[0m\u001b[1;33m(\u001b[0m\u001b[1;33m*\u001b[0m\u001b[0margs\u001b[0m\u001b[1;33m)\u001b[0m\u001b[1;33m\u001b[0m\u001b[0m\n\u001b[0m\u001b[1;32m   1022\u001b[0m     \u001b[1;32mexcept\u001b[0m \u001b[0merrors\u001b[0m\u001b[1;33m.\u001b[0m\u001b[0mOpError\u001b[0m \u001b[1;32mas\u001b[0m \u001b[0me\u001b[0m\u001b[1;33m:\u001b[0m\u001b[1;33m\u001b[0m\u001b[0m\n\u001b[1;32m   1023\u001b[0m       \u001b[0mmessage\u001b[0m \u001b[1;33m=\u001b[0m \u001b[0mcompat\u001b[0m\u001b[1;33m.\u001b[0m\u001b[0mas_text\u001b[0m\u001b[1;33m(\u001b[0m\u001b[0me\u001b[0m\u001b[1;33m.\u001b[0m\u001b[0mmessage\u001b[0m\u001b[1;33m)\u001b[0m\u001b[1;33m\u001b[0m\u001b[0m\n",
      "\u001b[0;32mC:\\Users\\Nitish Mutha\\Anaconda3\\envs\\tensorflow-gpu-12\\lib\\site-packages\\tensorflow\\python\\client\\session.py\u001b[0m in \u001b[0;36m_run_fn\u001b[0;34m(session, feed_dict, fetch_list, target_list, options, run_metadata)\u001b[0m\n\u001b[1;32m   1001\u001b[0m         return tf_session.TF_Run(session, options,\n\u001b[1;32m   1002\u001b[0m                                  \u001b[0mfeed_dict\u001b[0m\u001b[1;33m,\u001b[0m \u001b[0mfetch_list\u001b[0m\u001b[1;33m,\u001b[0m \u001b[0mtarget_list\u001b[0m\u001b[1;33m,\u001b[0m\u001b[1;33m\u001b[0m\u001b[0m\n\u001b[0;32m-> 1003\u001b[0;31m                                  status, run_metadata)\n\u001b[0m\u001b[1;32m   1004\u001b[0m \u001b[1;33m\u001b[0m\u001b[0m\n\u001b[1;32m   1005\u001b[0m     \u001b[1;32mdef\u001b[0m \u001b[0m_prun_fn\u001b[0m\u001b[1;33m(\u001b[0m\u001b[0msession\u001b[0m\u001b[1;33m,\u001b[0m \u001b[0mhandle\u001b[0m\u001b[1;33m,\u001b[0m \u001b[0mfeed_dict\u001b[0m\u001b[1;33m,\u001b[0m \u001b[0mfetch_list\u001b[0m\u001b[1;33m)\u001b[0m\u001b[1;33m:\u001b[0m\u001b[1;33m\u001b[0m\u001b[0m\n",
      "\u001b[0;31mKeyboardInterrupt\u001b[0m: "
     ]
    }
   ],
   "source": [
    "\n",
    "\n",
    "\n",
    "\n",
    "with tf.Session() as sess:\n",
    "    sess.run(tf.global_variables_initializer())\n",
    "\n",
    "    for epoch in range(EPOCH):\n",
    "        epoch_loss = 0\n",
    "        for _ in range(int(mnist.train.num_examples/BATCH)):\n",
    "            epoch_x, epoch_y = mnist.train.next_batch(BATCH)\n",
    "            epoch_x\n",
    "            epoch_x = epoch_x.reshape((BATCH,784,1))\n",
    "\n",
    "            _, c = sess.run([optimizer, cost], feed_dict={x: epoch_x, y: epoch_y})\n",
    "            epoch_loss += c\n",
    "\n",
    "        print('Epoch', epoch, 'completed out of',EPOCH,'loss:',epoch_loss)\n",
    "\n",
    "    correct = tf.equal(tf.argmax(prediction, 1), tf.argmax(y, 1))\n",
    "\n",
    "    accuracy = tf.reduce_mean(tf.cast(correct, 'float'))\n",
    "    print('Accuracy:',accuracy.eval({x:mnist.test.images.reshape((-1, TIME_STEP, IMAGE_DIM)), y:mnist.test.labels}))\n",
    "\n"
   ]
  },
  {
   "cell_type": "code",
   "execution_count": null,
   "metadata": {
    "collapsed": true
   },
   "outputs": [],
   "source": []
  }
 ],
 "metadata": {
  "anaconda-cloud": {},
  "kernelspec": {
   "display_name": "Python 3",
   "language": "python",
   "name": "python3"
  },
  "language_info": {
   "codemirror_mode": {
    "name": "ipython",
    "version": 3
   },
   "file_extension": ".py",
   "mimetype": "text/x-python",
   "name": "python",
   "nbconvert_exporter": "python",
   "pygments_lexer": "ipython3",
   "version": "3.5.2"
  }
 },
 "nbformat": 4,
 "nbformat_minor": 2
}
